{
 "cells": [
  {
   "cell_type": "markdown",
   "metadata": {},
   "source": [
    "# Punto 1"
   ]
  },
  {
   "cell_type": "markdown",
   "metadata": {},
   "source": [
    "El agente es el jugador que decide si moverse a la izquierda o a la derecha en cada momento <br/>\n",
    "\n",
    "Los estados son las 100 casillas en las que el agente puede encontrarse. No depende de información pasada, solo la casilla actual en que se encuentra<br/>\n",
    "\n",
    "La probabilidad de transición es 1/6 para casillas que se encuentren a una distancia entre 1 y 6 de la casilla actual. En caso que la casilla se encuentre cerca de un borde, esta probabilidad puede aumentar hasta 2/6 por el rebote dependiendo de qué tan cerca se encuentre del borde<br/>\n",
    "\n",
    "$$P_{ss'}^{a}=1/6*\\sum_{i=-6}^{-1}  s_{max(abs(t-i)-1,t-i)} | s_t=s , a_t=izquierda$$\n",
    "\n",
    "$$P_{ss'}^{a}=1/6*\\sum_{i=1}^{6} s_{min(t+i,2*|S|-(t+i)-1)} | s_t=s , a_t=derecha$$\n",
    "\n",
    "$$P_{ss'}^{a}=0 | Otros \\quad casos$$\n",
    "\n",
    "El valor esperado de la recompensa es 1000 en caso que la siguiente casilla sea una casilla de ganar el juego, y -1000 en caso que la siguiente casilla sea una casilla de perder el juego. En el resto de casos es 0 <br/>\n",
    "\n",
    "$$R_{ss'}^{a}= val(s_{t+1}) | abs(val(s_{t+1}))=1000$$\n",
    "\n",
    "$$R_{ss'}^{a}=0 | Otros \\quad casos$$\n",
    "\n",
    "Donde val es la función que indica el valor que tiene la casilla s (los números en la casilla)"
   ]
  },
  {
   "cell_type": "markdown",
   "metadata": {},
   "source": [
    "# Punto 2"
   ]
  },
  {
   "cell_type": "code",
   "execution_count": 30,
   "metadata": {},
   "outputs": [],
   "source": [
    "import numpy as np\n",
    "import random\n",
    "import matplotlib.pyplot as plt"
   ]
  },
  {
   "cell_type": "code",
   "execution_count": 31,
   "metadata": {},
   "outputs": [
    {
     "name": "stdout",
     "output_type": "stream",
     "text": [
      "[0, 0, 0, 0, 0, 0, 0, 18, 0, 0, 0, 0, 0, 0, 0, 0, 0, 0, 0, 0, 61, 0, -1000, 0, 0, 0, 0, 0, 0, 0, 0, -1000, 0, 0, 0, 0, 0, 0, 0, 0, 0, 0, 28, -22, -1000, -41, 0, -39, 0, 41, 0, -41, 0, 41, -48, 0, 0, 0, -42, 0, 0, 34, -1000, -32, 0, 21, 0, 0, -33, 0, -1000, 0, -72, 0, 0, 0, 0, 0, 0, 1000, 0, 0, -64, 0, 0, -1000, 0, 0, 0, 0, 0, -41, 0, 0, -71, 0, 0, -70, 0, 1000]\n"
     ]
    }
   ],
   "source": [
    "#Leer el archivo con los datos y cargarlos en las variables\n",
    "cells=[]\n",
    "with open('./data/m4.csv') as f:\n",
    "    for line in f:\n",
    "        cells.append(int(line))\n",
    "print(cells)"
   ]
  },
  {
   "cell_type": "markdown",
   "metadata": {},
   "source": [
    "Se encontrará una política óptima utilizando Iteración de valor. Se utilizará un factor de descuento de 0.9. Se utilizará un delta de 0.00001"
   ]
  },
  {
   "cell_type": "code",
   "execution_count": 32,
   "metadata": {},
   "outputs": [],
   "source": [
    "def calcVsInit():\n",
    "    vs=np.zeros(len(cells))\n",
    "    for i in range(len(cells)):\n",
    "        if abs(cells[i])==1000:\n",
    "            vs[i]=cells[i]\n",
    "    #print(vs)\n",
    "    return vs"
   ]
  },
  {
   "cell_type": "code",
   "execution_count": 33,
   "metadata": {},
   "outputs": [
    {
     "name": "stdout",
     "output_type": "stream",
     "text": [
      "[ 1. -1.  1.  1.  1.  1.  1.  1.  1.  1.  1.  1.  1.  1.  1.  1. -1. -1.\n",
      " -1. -1. -1. -1.  0. -1. -1. -1. -1. -1. -1. -1. -1.  0.  1.  1.  1.  1.\n",
      " -1.  1. -1. -1. -1. -1.  0.  1.  0.  1.  1.  1.  1.  1.  1. -1. -1. -1.\n",
      " -1.  1. -1. -1. -1. -1. -1. -1.  0.  0.  1.  1.  1.  1.  1.  1.  0.  1.\n",
      "  1.  1.  1.  1.  1.  1.  1.  0. -1. -1. -1. -1. -1.  0.  1.  1.  1.  1.\n",
      "  1.  1.  1.  1.  1.  1.  1.  1.  1.  0.]\n"
     ]
    }
   ],
   "source": [
    "vs=calcVsInit()\n",
    "d=1\n",
    "diceProbability=1/6\n",
    "discountFactor=0.9\n",
    "while d>0.00001:\n",
    "    d=0\n",
    "    for i in range(len(vs)):\n",
    "        if abs(vs[i])==1000:\n",
    "            continue\n",
    "        v=vs[i]\n",
    "        if abs(cells[i])!=1000 and cells[i]!=0:\n",
    "            updateValue=vs[i+cells[i]]\n",
    "            vs[i]=updateValue\n",
    "            d=max(d,abs(updateValue-v))\n",
    "            continue\n",
    "        valueOfRight=0\n",
    "        for j in range(1,7):\n",
    "            newPosition=i+j\n",
    "            if newPosition>len(vs)-1:\n",
    "                newPosition=2*len(vs)-newPosition-1\n",
    "            if abs(cells[newPosition])!=1000 and cells[newPosition]!=0:\n",
    "                valueOfRight+=diceProbability*(discountFactor*vs[newPosition+cells[newPosition]])\n",
    "            else:\n",
    "                valueOfRight+=diceProbability*(discountFactor*vs[newPosition])\n",
    "        valueOfLeft=0\n",
    "        for j in range(1,7):\n",
    "            newPosition=i-j\n",
    "            if newPosition<0:\n",
    "                newPosition=abs(i-j)-1\n",
    "            if abs(cells[newPosition])!=1000 and cells[newPosition]!=0:\n",
    "                valueOfLeft+=diceProbability*(discountFactor*vs[newPosition+cells[newPosition]])\n",
    "            else:\n",
    "                valueOfLeft+=diceProbability*(discountFactor*vs[newPosition])\n",
    "        updateValue=max(valueOfLeft,valueOfRight)\n",
    "        vs[i]=updateValue\n",
    "        d=max(d,abs(updateValue-v))\n",
    "\n",
    "pi=np.zeros(len(vs))\n",
    "\n",
    "for i in range(len(vs)):\n",
    "    if abs(vs[i])==1000:\n",
    "        continue\n",
    "    valueOfRight=0\n",
    "    for j in range(1,7):\n",
    "        newPosition=i+j\n",
    "        if newPosition>len(vs)-1:\n",
    "            newPosition=2*len(vs)-newPosition-1\n",
    "        if abs(cells[newPosition])!=1000 and cells[newPosition]!=0:\n",
    "            valueOfRight+=diceProbability*(discountFactor*vs[newPosition+cells[newPosition]])\n",
    "        else:\n",
    "            valueOfRight+=diceProbability*(discountFactor*vs[newPosition])\n",
    "    valueOfLeft=0\n",
    "    for j in range(1,7):\n",
    "        newPosition=i-j\n",
    "        if newPosition<0:\n",
    "            newPosition=abs(i-j)-1\n",
    "        if abs(cells[newPosition])!=1000 and cells[newPosition]!=0:\n",
    "            valueOfLeft+=diceProbability*(discountFactor*vs[newPosition+cells[newPosition]])\n",
    "        else:\n",
    "            valueOfLeft+=diceProbability*(discountFactor*vs[newPosition])\n",
    "    if(valueOfLeft>valueOfRight):\n",
    "        pi[i]=-1\n",
    "    else:\n",
    "        pi[i]=1\n",
    "print(pi)"
   ]
  },
  {
   "cell_type": "markdown",
   "metadata": {},
   "source": [
    "La política óptima se observa en el output de arriba. Los 1 indican que se debe mover a la derecha, los -1 indican que se debe mover a la izquierda. 0 en caso que el estado sea un estado terminal, por lo que no tiene sentido moverse a partir de aquí"
   ]
  },
  {
   "cell_type": "markdown",
   "metadata": {},
   "source": [
    "# Punto 3"
   ]
  },
  {
   "cell_type": "markdown",
   "metadata": {},
   "source": [
    "El error se calculará como la diferencia entre las funciones de valor del estado encontrada anteriormente contra el que se encontrará con Q learning. Esto se realizará así porque no necesariamente las acciones tienen que ser iguales teniendo en cuenta que una política es deterministica y otra es estocástica. En cambio, las funciones de valor deben poder indicar en qué tan buena posición se encuentra cada estado, lo cual en ambos casos debe ser similar. Se iterará 500000 veces, y se escogerá la política con menor error respecto a la política deterministica en cuanto a sus funciones de valor"
   ]
  },
  {
   "cell_type": "code",
   "execution_count": 42,
   "metadata": {
    "scrolled": true
   },
   "outputs": [
    {
     "name": "stdout",
     "output_type": "stream",
     "text": [
      "Política óptima encontrada con Q learning\n",
      "[[0.3 0.7]\n",
      " [0.7 0.3]\n",
      " [0.7 0.3]\n",
      " [0.3 0.7]\n",
      " [0.3 0.7]\n",
      " [0.3 0.7]\n",
      " [0.3 0.7]\n",
      " [0.5 0.5]\n",
      " [0.3 0.7]\n",
      " [0.3 0.7]\n",
      " [0.3 0.7]\n",
      " [0.3 0.7]\n",
      " [0.3 0.7]\n",
      " [0.3 0.7]\n",
      " [0.3 0.7]\n",
      " [0.3 0.7]\n",
      " [0.3 0.7]\n",
      " [0.7 0.3]\n",
      " [0.7 0.3]\n",
      " [0.7 0.3]\n",
      " [0.5 0.5]\n",
      " [0.7 0.3]\n",
      " [0.5 0.5]\n",
      " [0.7 0.3]\n",
      " [0.7 0.3]\n",
      " [0.7 0.3]\n",
      " [0.7 0.3]\n",
      " [0.7 0.3]\n",
      " [0.3 0.7]\n",
      " [0.7 0.3]\n",
      " [0.7 0.3]\n",
      " [0.5 0.5]\n",
      " [0.3 0.7]\n",
      " [0.3 0.7]\n",
      " [0.3 0.7]\n",
      " [0.3 0.7]\n",
      " [0.3 0.7]\n",
      " [0.7 0.3]\n",
      " [0.7 0.3]\n",
      " [0.7 0.3]\n",
      " [0.7 0.3]\n",
      " [0.3 0.7]\n",
      " [0.5 0.5]\n",
      " [0.5 0.5]\n",
      " [0.5 0.5]\n",
      " [0.5 0.5]\n",
      " [0.3 0.7]\n",
      " [0.5 0.5]\n",
      " [0.3 0.7]\n",
      " [0.5 0.5]\n",
      " [0.3 0.7]\n",
      " [0.5 0.5]\n",
      " [0.7 0.3]\n",
      " [0.5 0.5]\n",
      " [0.5 0.5]\n",
      " [0.3 0.7]\n",
      " [0.7 0.3]\n",
      " [0.7 0.3]\n",
      " [0.5 0.5]\n",
      " [0.7 0.3]\n",
      " [0.7 0.3]\n",
      " [0.5 0.5]\n",
      " [0.5 0.5]\n",
      " [0.5 0.5]\n",
      " [0.7 0.3]\n",
      " [0.5 0.5]\n",
      " [0.3 0.7]\n",
      " [0.3 0.7]\n",
      " [0.5 0.5]\n",
      " [0.3 0.7]\n",
      " [0.5 0.5]\n",
      " [0.3 0.7]\n",
      " [0.5 0.5]\n",
      " [0.3 0.7]\n",
      " [0.3 0.7]\n",
      " [0.3 0.7]\n",
      " [0.3 0.7]\n",
      " [0.3 0.7]\n",
      " [0.3 0.7]\n",
      " [0.5 0.5]\n",
      " [0.7 0.3]\n",
      " [0.7 0.3]\n",
      " [0.5 0.5]\n",
      " [0.7 0.3]\n",
      " [0.7 0.3]\n",
      " [0.5 0.5]\n",
      " [0.3 0.7]\n",
      " [0.3 0.7]\n",
      " [0.7 0.3]\n",
      " [0.3 0.7]\n",
      " [0.3 0.7]\n",
      " [0.5 0.5]\n",
      " [0.3 0.7]\n",
      " [0.3 0.7]\n",
      " [0.3 0.7]\n",
      " [0.3 0.7]\n",
      " [0.3 0.7]\n",
      " [0.5 0.5]\n",
      " [0.3 0.7]\n",
      " [0.5 0.5]]\n"
     ]
    },
    {
     "data": {
      "image/png": "[encoded data removed]",
      "text/plain": [
       "<Figure size 432x288 with 1 Axes>"
      ]
     },
     "metadata": {
      "needs_background": "light"
     },
     "output_type": "display_data"
    },
    {
     "name": "stdout",
     "output_type": "stream",
     "text": [
      "Índice de la política con menor error respecto a la deterministica\n",
      "28451\n"
     ]
    }
   ],
   "source": [
    "vs2=calcVsInit()\n",
    "qs2=np.zeros((len(cells),2))\n",
    "pi2=np.full((len(cells),2),0.5)\n",
    "alpha=0.1\n",
    "discountFactor=0.9\n",
    "epsilon=0.6\n",
    "numIter=50000\n",
    "errors=[]\n",
    "pis=[]\n",
    "for i in range(numIter):\n",
    "    s=0\n",
    "    while True:\n",
    "        randomValue=random.random()\n",
    "        if randomValue<pi2[s][0]:\n",
    "            curA=0\n",
    "        else:\n",
    "            curA=1\n",
    "        j=int((curA-0.5)*2*random.randrange(1, 7))\n",
    "        newS=int(s+j)\n",
    "        if newS>len(cells)-1:\n",
    "            newS=2*len(cells)-newS-1\n",
    "        if newS<0:\n",
    "            newS=abs(newS)-1\n",
    "        if abs(cells[newS])!=1000 and cells[newS]!=0:\n",
    "            qs2[newS]= qs2[newS+cells[newS]]\n",
    "            vs2[newS]= vs2[newS+cells[newS]]\n",
    "            newS+=cells[newS]\n",
    "        reward=0\n",
    "        if abs(cells[newS])==1000:\n",
    "            reward=cells[newS]\n",
    "        maxA=max(qs2[newS][0],qs2[newS][1])\n",
    "        qs2[s][curA]= qs2[s][curA] + alpha*(reward + discountFactor*maxA - qs2[s][curA])\n",
    "        vs2[s]=qs2[s][0]*pi2[s][0]+qs2[s][1]*pi2[s][1]\n",
    "        if abs(cells[newS])==1000:\n",
    "            break\n",
    "        a=np.argmax(qs2[s])\n",
    "        pi2[s][a]=1-epsilon+epsilon/len(qs2[s])\n",
    "        pi2[s][1-a]=epsilon/len(qs2[s])\n",
    "        s=newS\n",
    "    errorsT=0\n",
    "    for j in range(len(pi2)):\n",
    "        if cells[j]==0:\n",
    "            #if pi[j]*(pi2[j][1]-0.5)<0:\n",
    "                #errorsT+=1\n",
    "            errorsT+=abs(vs[j]-vs2[j])\n",
    "    errors.append(errorsT)\n",
    "    pis.append(pi2)    \n",
    "#print(qs2)\n",
    "print(\"Política óptima encontrada con Q learning\")\n",
    "print(pi2)\n",
    "#print(list(map(lambda x: ('{:.7f}'.format(x)) , vs2)))\n",
    "plt.plot(errors)\n",
    "plt.ylabel('Error en función de valor por iteración')\n",
    "plt.show()\n",
    "minErrorsIndex=np.argmin(errors)\n",
    "print(\"Índice de la política con menor error respecto a la deterministica\")\n",
    "print(minErrorsIndex)"
   ]
  },
  {
   "cell_type": "markdown",
   "metadata": {},
   "source": [
    "# Punto 4"
   ]
  },
  {
   "cell_type": "markdown",
   "metadata": {},
   "source": [
    "Para estimar la probabilidad de ganar se guardará la cadena de celdas por donde avanza, esto se guardará como un set para no tener cadenas repetidas. Al terminar un episodio se recorre esta cadena y se almacena en una matriz si esto resultó en ganar o perder. Por tanto, para la celda 0 se tendrá la cantidad total de veces que ganó y que perdió comenzando con esta política.\n",
    "\n",
    "Por otra parte, para calcular la duración de un episodio se guardará en otro arreglo la cantidad de veces que pasa por el ciclo interno antes de salir ya sea ganando o perdiendo, esto se hará para todos los episodios. El resultado será el promedio de estos valores"
   ]
  },
  {
   "cell_type": "code",
   "execution_count": 43,
   "metadata": {},
   "outputs": [
    {
     "name": "stdout",
     "output_type": "stream",
     "text": [
      "Probabilidad de ganar\n",
      "0.28379\n",
      "Duración promedio\n",
      "21.20165\n"
     ]
    }
   ],
   "source": [
    "bestPi=pis[minErrorsIndex]\n",
    "wins=np.zeros((len(cells),2))\n",
    "durations=[]\n",
    "for i in range(100000):\n",
    "    s=0\n",
    "    chain={0}\n",
    "    hasWon=False\n",
    "    durationT=0\n",
    "    while True:\n",
    "        durationT+=1\n",
    "        randomValue=random.random()\n",
    "        if randomValue<bestPi[s][0]:\n",
    "            curA=0\n",
    "        else:\n",
    "            curA=1\n",
    "        j=int((curA-0.5)*2*random.randrange(1, 7))\n",
    "        newS=int(s+j)\n",
    "        if newS>len(cells)-1:\n",
    "            newS=2*len(cells)-newS-1\n",
    "        if newS<0:\n",
    "            newS=abs(newS)-1\n",
    "        if abs(cells[newS])!=1000 and cells[newS]!=0:\n",
    "            qs2[newS]= qs2[newS+cells[newS]]\n",
    "            vs2[newS]= vs2[newS+cells[newS]]\n",
    "            newS+=cells[newS]\n",
    "        if abs(cells[newS])==1000:\n",
    "            #print(durationT)\n",
    "            #print(\"estado actual\")\n",
    "            #print(newS)\n",
    "            if cells[newS]==1000:\n",
    "                hasWon=True\n",
    "            break\n",
    "        s=newS\n",
    "        chain.add(s)\n",
    "    durations.append(durationT)\n",
    "    while len(chain)>0:\n",
    "        cell=chain.pop()\n",
    "        if hasWon:\n",
    "            wins[cell][0]+=1\n",
    "        else:\n",
    "            wins[cell][1]+=1\n",
    "#print(cells)\n",
    "#print(wins) \n",
    "print(\"Probabilidad de ganar\")\n",
    "print(wins[0][0]/(wins[0][0]+wins[0][1]))\n",
    "print(\"Duración promedio\")\n",
    "print(sum(durations) / len(durations))"
   ]
  },
  {
   "cell_type": "markdown",
   "metadata": {},
   "source": [
    "Como se puede observar, la probabilidad de ganar de un episodio es bastante baja, de aproximadamente 0.283. De acuerdo a la política, el agente intenta llegar al salto en la celda 21, donde termina en la celda 82, y de allí intenta ganar con la celda 80. Sin embargo, puede caer en la celda 8 en la que queda atrapado entre 2 celdas de pérdida o en la 23, donde pierde directamente.\n",
    "\n",
    "Por otra parte, la duración promedio de un episodio es bastante alta, aproximadamente de 21.2 iteraciones."
   ]
  }
 ],
 "metadata": {
  "kernelspec": {
   "display_name": "Python 3",
   "language": "python",
   "name": "python3"
  },
  "language_info": {
   "codemirror_mode": {
    "name": "ipython",
    "version": 3
   },
   "file_extension": ".py",
   "mimetype": "text/x-python",
   "name": "python",
   "nbconvert_exporter": "python",
   "pygments_lexer": "ipython3",
   "version": "3.7.3"
  }
 },
 "nbformat": 4,
 "nbformat_minor": 2
}
